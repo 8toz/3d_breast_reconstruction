{
 "cells": [
  {
   "cell_type": "code",
   "execution_count": 1,
   "id": "8cc09816-23ef-43bd-9c49-3f0f52246f98",
   "metadata": {},
   "outputs": [],
   "source": [
    "import os\n",
    "vipsbin = r\"c:\\vips-dev-8.15\\bin\"\n",
    "os.environ['PATH'] = vipsbin + ';' + os.environ['PATH']"
   ]
  },
  {
   "cell_type": "code",
   "execution_count": 2,
   "id": "23fc5a0f-213e-483b-9e92-f87c0576ac45",
   "metadata": {},
   "outputs": [],
   "source": [
    "import pyvips\n",
    "from tqdm.notebook import tqdm_notebook\n",
    "import time\n",
    "import inspect\n",
    "from tifffile import TiffFile\n",
    "from PIL import Image\n",
    "import os\n",
    "from xml.etree import ElementTree"
   ]
  },
  {
   "cell_type": "code",
   "execution_count": 3,
   "id": "ec709ed2-96c5-44d0-850a-0fe74e441c97",
   "metadata": {},
   "outputs": [],
   "source": [
    "def process_qptiff_image(img_path, folder, desired_file_size):\n",
    "    file_name = os.path.splitext(os.path.basename(img_path))[0]\n",
    "    with TiffFile(img_path) as tif:\n",
    "        # Detects original size on the piramidal image\n",
    "        max_height, max_width = get_max_size(img_path)\n",
    "        if is_multiplex(img_path):\n",
    "            channels = get_channel_names(img_path)\n",
    "        counter = 0\n",
    "        for i, page in enumerate(tif.pages):\n",
    "            pages = str(tif.pages[i])\n",
    "            # Get the resolution for each image\n",
    "            height, width = get_resolution(pages)\n",
    "            page_dict = create_page_dict(pages, max_height, max_width, height, width)\n",
    "            \n",
    "            if str(page_dict[\"downsampling_factor\"]) == desired_file_size:\n",
    "                create_folder(os.path.join(folder,\"processed\"+ \"_\" +desired_file_size))\n",
    "                array = page.asarray()\n",
    "                image = pyvips.Image.new_from_array(array)\n",
    "                if is_multiplex(img_path):\n",
    "                    image.write_to_file(os.path.join(folder,\n",
    "                                                 \"processed\"+ \"_\" +desired_file_size,\n",
    "                                                 file_name +\"_\"+channels[counter]+\".tif\")\n",
    "                                    , pyramid=True\n",
    "                                    , tile=True)\n",
    "                    counter += 1\n",
    "                else:\n",
    "                    image.write_to_file(os.path.join(folder,\n",
    "                                                 \"processed\"+ \"_\" +desired_file_size,\n",
    "                                                 file_name+\".tif\")\n",
    "                                    , pyramid=True\n",
    "                                    , tile=True)\n",
    "\n",
    "def create_folder(folder_path):\n",
    "    if not os.path.exists(folder_path):\n",
    "        os.makedirs(folder_path)\n",
    "        #print(f\"Folder '{folder_path}' created successfully.\")\n",
    "    else:\n",
    "        pass\n",
    "        #print(f\"Folder '{folder_path}' already exists.\")\n",
    "\n",
    "def get_qptiff_paths(path):\n",
    "    path_list = []\n",
    "    for paths in os.walk(path, topdown=False):\n",
    "        root = paths[0]\n",
    "        for file in paths[-1]:\n",
    "            if file.split(\".\")[-1] == \"qptiff\":\n",
    "                path_list.append(os.path.join(root, file))\n",
    "\n",
    "    return path_list\n",
    "\n",
    "def get_resolution(input_str):\n",
    "    input_str = str(input_str) # Make sure is str format\n",
    "    size = input_str.split(\" \")[4]\n",
    "    height, width = size.split(\"x\")[0], size.split(\"x\")[1]\n",
    "    return int(height), int(width)\n",
    "\n",
    "def get_max_size(path):\n",
    "    with TiffFile(path) as tif:\n",
    "        height, width = -1, -1\n",
    "        for i, page in enumerate(tif.pages):\n",
    "            pages = str(tif.pages[i])\n",
    "            img_height, img_width = get_resolution(pages)\n",
    "            height = img_height if height < img_height else height\n",
    "            width = img_width if width < img_width else width\n",
    "    \n",
    "    return height, width\n",
    "\n",
    "\n",
    "def create_page_dict(page, max_height, max_width, height, width):\n",
    "    is_rgb = True if \"rgb\" in page else False\n",
    "    is_reduced = True if \"reduced\" in page else False\n",
    "    downsampling_factor = \"original\" if int(max_height/height) == 1 else int(max_height/height)\n",
    "    page_split = str(page).split(\" \")\n",
    "    result = {\n",
    "        \"page_number\":page_split[1],\n",
    "        \"memory_position\":page_split[2],\n",
    "        \"image_size\": page_split[4],\n",
    "        \"is_rgb\": is_rgb,\n",
    "        \"is_reduced\": is_reduced,\n",
    "        \"downsampling_factor\": downsampling_factor\n",
    "    }    \n",
    "    return result\n",
    "    \n",
    "\n",
    "def is_multiplex(path):\n",
    "    with TiffFile(path) as tif:\n",
    "        if len(tif.pages) < 30:\n",
    "            return False\n",
    "    return True\n",
    "\n",
    "def check_qptiff_data(path):\n",
    "    with TiffFile('./data/first_multiplex/set1/LM015_02_Set1_023_Scan1.qptiff') as tif:\n",
    "        for i, page in enumerate(tif.pages):\n",
    "            print(page)\n",
    "\n",
    "def get_channel_names(img_path):\n",
    "    channels = []\n",
    "    with TiffFile(img_path) as tif:\n",
    "        for page in tif.series[0].pages:\n",
    "            channel = ElementTree.fromstring(page.description).find('Name').text\n",
    "            channel = channel.replace(\" \", \"_\")\n",
    "            channels.append(channel)\n",
    "    return channels\n",
    "            \n",
    "    "
   ]
  },
  {
   "cell_type": "markdown",
   "id": "6bc24967-2859-4276-bd36-f04b4130688e",
   "metadata": {},
   "source": [
    "# Check multiplex Fluorescence format"
   ]
  },
  {
   "cell_type": "markdown",
   "id": "2ffd2276-c4b5-4615-9b30-f67fe1e8f468",
   "metadata": {},
   "source": [
    "The multiplex images contains multiple channels as they display images in piramidal format.\n",
    "- The first 8 images will have the actual channels full resolution.\n",
    "- The next 8 sets will contain piramidal versions of the images that are downsampled versions up to x64."
   ]
  },
  {
   "cell_type": "code",
   "execution_count": 4,
   "id": "c21308bd-05c7-4e67-88ad-126e5a25eb45",
   "metadata": {},
   "outputs": [],
   "source": [
    "#img_path = \"./data/first_multiplex/set1/LM015_02_Set1_023_Scan1.qptiff\"\n",
    "#check_qptiff_data(img_path)\n",
    "#img_path = \"./data/66-4/H21-066.4_HE332_001/Scan1/H21-066.4_HE332_001_Scan1.qptiff\"\n",
    "#is_multiplex(img_path)"
   ]
  },
  {
   "cell_type": "code",
   "execution_count": 5,
   "id": "1d4f269b-abd6-460d-a1ed-e3f4ece660de",
   "metadata": {},
   "outputs": [
    {
     "data": {
      "application/vnd.jupyter.widget-view+json": {
       "model_id": "235f89f3c75b42a9b8c4b1f76d8c9e58",
       "version_major": 2,
       "version_minor": 0
      },
      "text/plain": [
       "  0%|          | 0/1 [00:00<?, ?it/s]"
      ]
     },
     "metadata": {},
     "output_type": "display_data"
    }
   ],
   "source": [
    "#folder =  \"./data/first_multiplex/set1\"\n",
    "folder = \"./data/66-4/H21-066.4_HE332_033\"\n",
    "\n",
    "#Available resolutions Original, *2, *4, *8, *16, *32, *64\n",
    "\n",
    "def resize_qptiff_files(folder, target_size): \n",
    "    files = get_qptiff_paths(folder)\n",
    "    for file in tqdm_notebook(files):\n",
    "        process_qptiff_image(file, folder, target_size)\n",
    "        \n",
    "        \n",
    "resize_qptiff_files(folder, \"original\")"
   ]
  },
  {
   "cell_type": "markdown",
   "id": "cea60e3b-1f71-4dc4-bde5-e33ade3154f0",
   "metadata": {},
   "source": [
    "## PLAYING WITH SCALING ..."
   ]
  },
  {
   "cell_type": "code",
   "execution_count": 14,
   "id": "8e105af6-9d24-4788-b529-4123fc3ff1fa",
   "metadata": {},
   "outputs": [],
   "source": [
    "thumb = pyvips.Image.thumbnail(\"./tryout/your_file0.tiff\", 2048)\n",
    "thumb.write_to_file(\"./tryout/thumbnail0.tiff\")"
   ]
  },
  {
   "cell_type": "code",
   "execution_count": null,
   "id": "768be910-e18d-4b0c-9abd-dc78cd80306f",
   "metadata": {},
   "outputs": [],
   "source": [
    "#You can use the more general affine function. An affine transformation does scaling, rotation and translation all at once. \n",
    "# You can parameterize the affine matrix to do 0 rotation and 0 translation.\n",
    "#You first calculate the necessary factors to achieve the target shape\n",
    "\n",
    "height_factor = target_height / img.height\n",
    "width_factor = target_width / img.width\n",
    "\n",
    "img.affine((width_factor, 0, 0, height_factor))"
   ]
  },
  {
   "cell_type": "code",
   "execution_count": 53,
   "id": "6835df03-528f-40ae-99f3-ced8d83dae0d",
   "metadata": {},
   "outputs": [
    {
     "name": "stdout",
     "output_type": "stream",
     "text": [
      "['DAPI', 'Opal 570', 'Opal 690', 'Opal 480', 'Opal 620', 'Opal 780', 'Opal 520', 'Sample AF']\n"
     ]
    }
   ],
   "source": [
    "from xml.etree import ElementTree\n",
    "\n",
    "new_path =  \"./data/66-1/H21-066.1_HE331_0001_Scan1.qptiff\"\n",
    "new_path = \"./data/first_multiplex/set1/LM015_02_Set1_023_Scan1.qptiff\"\n",
    "\n",
    "\n",
    "print(get_channel_names(new_path))\n",
    "\n",
    "with TiffFile(new_path) as tif:\n",
    "    for i, page in enumerate(tif.pages):\n",
    "        pages = str(tif.pages[i])\n",
    "        #print(pages)\n",
    "    "
   ]
  },
  {
   "cell_type": "markdown",
   "id": "736478ca-a5ef-4072-801f-bff014e02b61",
   "metadata": {},
   "source": [
    "## OBSOLETE CODE"
   ]
  },
  {
   "cell_type": "code",
   "execution_count": null,
   "id": "9a544629-ddb1-40f5-aff5-6e9224894620",
   "metadata": {},
   "outputs": [],
   "source": [
    "# This function is obsolete\n",
    "# iterates a folder and its subfolders gets the qptiff files and convert them to a predefined size and add them in a processed_images folder\n",
    "def resize_qptiff_files(path, target_size):\n",
    "    create_folder(os.path.join(path, 'processed_images'))\n",
    "    for i, file in tqdm_notebook(enumerate(get_qptiff_paths(path))):\n",
    "        output = 'test' + str(i) + '.tif'\n",
    "        print(i, file)\n",
    "        thumb = pyvips.Image.thumbnail(file, target_size)\n",
    "        # Insert image path and desired size of the resulting image (need to do more research if different than squared is possible)\n",
    "        print(f\"Saving {output} into {os.path.join(path, 'processed_images', output)}\")\n",
    "        thumb.write_to_file(os.path.join(path, 'processed_images', output))\n",
    "\n",
    "# resize_qptiff_files(\"./data/first_multiplex/set1/\", 4096)\n",
    "        "
   ]
  }
 ],
 "metadata": {
  "kernelspec": {
   "display_name": "Python 3 (ipykernel)",
   "language": "python",
   "name": "python3"
  },
  "language_info": {
   "codemirror_mode": {
    "name": "ipython",
    "version": 3
   },
   "file_extension": ".py",
   "mimetype": "text/x-python",
   "name": "python",
   "nbconvert_exporter": "python",
   "pygments_lexer": "ipython3",
   "version": "3.10.13"
  }
 },
 "nbformat": 4,
 "nbformat_minor": 5
}
